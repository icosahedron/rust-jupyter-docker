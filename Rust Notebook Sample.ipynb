{
 "cells": [
  {
   "cell_type": "code",
   "execution_count": 2,
   "id": "royal-admission",
   "metadata": {},
   "outputs": [
    {
     "name": "stdout",
     "output_type": "stream",
     "text": [
      "3\n"
     ]
    },
    {
     "data": {
      "text/plain": [
       "()"
      ]
     },
     "execution_count": 2,
     "metadata": {},
     "output_type": "execute_result"
    }
   ],
   "source": [
    "println!(\"{}\", 1+2)"
   ]
  },
  {
   "cell_type": "code",
   "execution_count": 3,
   "id": "young-accountability",
   "metadata": {},
   "outputs": [],
   "source": [
    ":dep plotly = { version = \">=0.6.0\" }\n",
    ":dep itertools-num = \"0.1.3\""
   ]
  },
  {
   "cell_type": "code",
   "execution_count": 4,
   "id": "cc1cd7e7",
   "metadata": {},
   "outputs": [],
   "source": [
    "\n",
    "extern crate plotly;\n",
    "extern crate rand_distr;\n",
    "extern crate itertools_num;\n",
    "extern crate itertools;"
   ]
  },
  {
   "cell_type": "code",
   "execution_count": 6,
   "id": "9528c4f6",
   "metadata": {},
   "outputs": [],
   "source": [
    "use itertools_num::linspace;\n",
    "use plotly::common::{\n",
    "    ColorScale, ColorScalePalette, DashType, Fill, Font, Line, LineShape, Marker, Mode, Title,\n",
    "};\n",
    "use plotly::layout::{Axis, BarMode, Layout, Legend, TicksDirection};\n",
    "use plotly::{Bar, NamedColor, Plot, Rgb, Rgba, Scatter};\n",
    "use rand_distr::{Distribution, Normal, Uniform};"
   ]
  },
  {
   "cell_type": "code",
   "execution_count": 8,
   "id": "731c99c6",
   "metadata": {},
   "outputs": [
    {
     "data": {
      "text/html": [
       "<div>\n",
       "    <div id=\"LxIFSuaclkiFvHOpu1TE\" class=\"plotly-graph-div\" style=\"height:100%; width:100%;\"></div>\n",
       "    <script type=\"text/javascript\">\n",
       "        require(['https://cdn.plot.ly/plotly-2.8.3.min.js'], function(Plotly) {\n",
       "            window.PLOTLYENV=window.PLOTLYENV || {};\n",
       "\n",
       "            if (document.getElementById(\"LxIFSuaclkiFvHOpu1TE\")) {\n",
       "                var trace_0 = {\"type\":\"scatter\",\"mode\":\"markers\",\"x\":[0.0,0.10101010101010101,0.20202020202020202,0.30303030303030304,0.40404040404040403,0.5050505050505051,0.6060606060606061,0.7070707070707071,0.8080808080808081,0.9090909090909091,1.0101010101010102,1.1111111111111112,1.2121212121212122,1.3131313131313131,1.4141414141414141,1.5151515151515151,1.6161616161616161,1.7171717171717171,1.8181818181818181,1.9191919191919191,2.0202020202020203,2.121212121212121,2.2222222222222223,2.323232323232323,2.4242424242424243,2.525252525252525,2.6262626262626263,2.727272727272727,2.8282828282828283,2.929292929292929,3.0303030303030303,3.131313131313131,3.2323232323232323,3.3333333333333335,3.4343434343434343,3.5353535353535355,3.6363636363636362,3.7373737373737375,3.8383838383838382,3.9393939393939394,4.040404040404041,4.141414141414141,4.242424242424242,4.343434343434343,4.444444444444445,4.545454545454545,4.646464646464646,4.747474747474747,4.848484848484849,4.94949494949495,5.05050505050505,5.151515151515151,5.252525252525253,5.353535353535354,5.454545454545454,5.555555555555555,5.656565656565657,5.757575757575758,5.858585858585858,5.959595959595959,6.0606060606060606,6.161616161616162,6.262626262626262,6.363636363636363,6.4646464646464645,6.565656565656566,6.666666666666667,6.767676767676767,6.8686868686868685,6.96969696969697,7.070707070707071,7.171717171717171,7.2727272727272725,7.373737373737374,7.474747474747475,7.575757575757575,7.6767676767676765,7.777777777777778,7.878787878787879,7.979797979797979,8.080808080808081,8.181818181818182,8.282828282828282,8.383838383838384,8.484848484848484,8.585858585858587,8.686868686868687,8.787878787878787,8.88888888888889,8.98989898989899,9.09090909090909,9.191919191919192,9.292929292929292,9.393939393939394,9.494949494949495,9.595959595959595,9.696969696969697,9.797979797979798,9.8989898989899,10.0],\"y\":[0.0,0.1008384202581046,0.2006488565226854,0.2984138044476411,0.3931366121483298,0.48385164043793466,0.5696341069089657,0.6496095135057065,0.7229625614794605,0.7889454628442574,0.8468855636029834,0.8961922010299563,0.9363627251042848,0.9669876227092996,0.9877546923600838,0.9984522269003895,0.9989711717233568,0.9893062365143401,0.9695559491823237,0.9399216514301312,0.9007054462029555,0.8523071179396752,0.7952200570230491,0.7300262299764464,0.6573902466827755,0.5780525851065732,0.4928220425889235,0.40256749066949654,0.30820901749007684,0.2107085480771929,0.11106003812412972,0.010279341240534697,-0.09060614703340773,-0.19056796287548539,-0.28858705872043244,-0.38366419180611233,-0.47483011082223947,-0.5611554368152017,-0.6417601376193878,-0.7158224992291902,-0.7825875026542022,-0.8413745208608701,-0.8915842573351402,-0.9327048555318336,-0.9643171169287782,-0.9860987744909296,-0.9978277779792126,-0.9993845576124357,-0.9907532430056771,-0.9720218249588334,-0.9433812584459996,-0.9051235159501367,-0.8576386109880517,-0.8014106221689697,-0.7370127583189133,-0.6651015149788224,-0.586409981847235,-0.5017403693939113,-0.4119558308308628,-0.31797166281061867,-0.22074597455506334,-0.12126992053716677,-0.020557596287260064,0.08036429967028173,0.18046693235991093,0.27872981867755725,0.37415123057121996,0.4657584070256517,0.5526174707464059,0.6338429484489058,0.7086067976992182,0.7761468482835805,0.8357745720522589,0.8868821020290788,0.9289484292312513,0.9615447140268235,0.9843386578838236,0.9970978909438748,0.9996923408861117,0.9920955589323228,0.9743849894755358,0.9467411805833543,0.9094459434244625,0.8628794793817836,0.8075165041395626,0.7439214082568444,0.6727425035622647,0.5947054140244975,0.510605678474283,0.4213006405886069,0.32770070881349983,0.23076007532505177,0.13146698864295842,0.03083367906114098,-0.07011396040064677,-0.1703468323280965,-0.26884312591038406,-0.3645987336558887,-0.45663748763377376,-0.5440211108893698]};\n",
       "var data = [trace_0];\n",
       "var layout = {\"height\":800};\n",
       "                Plotly.newPlot(\n",
       "                    'LxIFSuaclkiFvHOpu1TE',\n",
       "                    data,\n",
       "                    layout,\n",
       "                    {\"responsive\": true}\n",
       "                ).then(function(){\n",
       "                    var gd = document.getElementById('LxIFSuaclkiFvHOpu1TE');\n",
       "                    var x = new MutationObserver(function (mutations, observer) { {\n",
       "                            var display = window.getComputedStyle(gd).display;\n",
       "                            if (!display || display === 'none') { {\n",
       "                                console.log([gd, 'removed!']);\n",
       "                                Plotly.purge(gd);\n",
       "                                observer.disconnect();\n",
       "                            } }\n",
       "                    } });\n",
       "\n",
       "                    // Listen for the removal of the full notebook cells\n",
       "                    var notebookContainer = gd.closest('#notebook-container');\n",
       "                    if (notebookContainer) { {\n",
       "                        x.observe(notebookContainer, {childList: true});\n",
       "                    } }\n",
       "\n",
       "                    // Listen for the clearing of the current output cell\n",
       "                    var outputEl = gd.closest('.output');\n",
       "                    if (outputEl) { {\n",
       "                        x.observe(outputEl, {childList: true});\n",
       "                    } } })\n",
       "            };\n",
       "        });\n",
       "            </script>\n",
       "</div>"
      ]
     },
     "execution_count": 8,
     "metadata": {},
     "output_type": "execute_result"
    }
   ],
   "source": [
    "let n: usize = 100;\n",
    "let t: Vec<f64> = linspace(0., 10., n).collect();\n",
    "let y: Vec<f64> = t.iter().map(|x| x.sin()).collect();\n",
    "\n",
    "let trace = Scatter::new(t, y).mode(Mode::Markers);\n",
    "let mut plot = Plot::new();\n",
    "plot.add_trace(trace);\n",
    "let layout = Layout::new().height(800);\n",
    "plot.set_layout(layout);\n",
    "plot.notebook_display();"
   ]
  },
  {
   "cell_type": "code",
   "execution_count": 9,
   "id": "ab05df05",
   "metadata": {},
   "outputs": [
    {
     "data": {
      "text/html": [
       "<div>\n",
       "    <div id=\"2sjWNvz41zSWYaIsUhqn\" class=\"plotly-graph-div\" style=\"height:100%; width:100%;\"></div>\n",
       "    <script type=\"text/javascript\">\n",
       "        require(['https://cdn.plot.ly/plotly-2.8.3.min.js'], function(Plotly) {\n",
       "            window.PLOTLYENV=window.PLOTLYENV || {};\n",
       "\n",
       "            if (document.getElementById(\"2sjWNvz41zSWYaIsUhqn\")) {\n",
       "                var trace_0 = {\"type\":\"scatter\",\"mode\":\"markers\",\"x\":[1,2,3,4,5,6,7,8,9,10],\"y\":[1.0,4.0,9.0,16.0,25.0,36.0,49.0,64.0,81.0,100.0]};\n",
       "var data = [trace_0];\n",
       "var layout = {\"height\":525};\n",
       "                Plotly.newPlot(\n",
       "                    '2sjWNvz41zSWYaIsUhqn',\n",
       "                    data,\n",
       "                    layout,\n",
       "                    {\"responsive\": true}\n",
       "                ).then(function(){\n",
       "                    var gd = document.getElementById('2sjWNvz41zSWYaIsUhqn');\n",
       "                    var x = new MutationObserver(function (mutations, observer) { {\n",
       "                            var display = window.getComputedStyle(gd).display;\n",
       "                            if (!display || display === 'none') { {\n",
       "                                console.log([gd, 'removed!']);\n",
       "                                Plotly.purge(gd);\n",
       "                                observer.disconnect();\n",
       "                            } }\n",
       "                    } });\n",
       "\n",
       "                    // Listen for the removal of the full notebook cells\n",
       "                    var notebookContainer = gd.closest('#notebook-container');\n",
       "                    if (notebookContainer) { {\n",
       "                        x.observe(notebookContainer, {childList: true});\n",
       "                    } }\n",
       "\n",
       "                    // Listen for the clearing of the current output cell\n",
       "                    var outputEl = gd.closest('.output');\n",
       "                    if (outputEl) { {\n",
       "                        x.observe(outputEl, {childList: true});\n",
       "                    } } })\n",
       "            };\n",
       "        });\n",
       "            </script>\n",
       "</div>"
      ]
     },
     "execution_count": 9,
     "metadata": {},
     "output_type": "execute_result"
    }
   ],
   "source": [
    "let n: usize = 100;\n",
    "let t = vec![1,2,3,4,5,6,7,8,9,10];\n",
    "let y = t.iter().map(|v| (*v as f64).powf(2.0)).collect::<Vec<f64>>();\n",
    "let trace = Scatter::new(t,y).mode(Mode::Markers);\n",
    "let mut plot = Plot::new();\n",
    "plot.add_trace(trace);\n",
    "let layout = Layout::new().height(525);\n",
    "plot.set_layout(layout);\n",
    "plot.notebook_display();"
   ]
  },
  {
   "cell_type": "code",
   "execution_count": null,
   "id": "c62ecead",
   "metadata": {},
   "outputs": [],
   "source": []
  }
 ],
 "metadata": {
  "kernelspec": {
   "display_name": "Rust",
   "language": "rust",
   "name": "rust"
  },
  "language_info": {
   "codemirror_mode": "rust",
   "file_extension": ".rs",
   "mimetype": "text/rust",
   "name": "Rust",
   "pygment_lexer": "rust",
   "version": ""
  }
 },
 "nbformat": 4,
 "nbformat_minor": 5
}
